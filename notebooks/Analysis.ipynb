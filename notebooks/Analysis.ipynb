{
 "cells": [
  {
   "cell_type": "markdown",
   "id": "dd51cb10",
   "metadata": {},
   "source": [
    "# Data analysis and visualization\n",
    "\n",
    "Code for analysis / visualization\n"
   ]
  },
  {
   "cell_type": "code",
   "execution_count": null,
   "id": "f9b1fff8",
   "metadata": {},
   "outputs": [],
   "source": [
    "import pandas as pd\n",
    "import seaborn as sns\n",
    "import matplotlib.pylab as plt\n",
    "from matplotlib import rcParams\n",
    "rcParams.update({'figure.autolayout': True})\n",
    "\n",
    "df = pd.read_csv('../data/inCites/dataframe.csv', index_col=0)\n",
    "cgab = pd.read_csv('../data/inCites/countries_groupAB.csv', index_col=0)\n",
    "countries = list(cgab.index)\n",
    "cgab_gdpord = cgab.sort_values(by=['GDP_pc'])\n",
    "countries_gdpord = list(cgab_gdpord.index)\n",
    "#df_c = df[countries]\n",
    "\n",
    "df['PercOAItems'] = df.OAItems / df.TotItems\n",
    "df['PercNotOAItems'] = df.NotOAItems / df.TotItems\n",
    "df['CitR'] = df.CitPerItem_OA/ df.CitPerItem_NotOA\n",
    "df['CitPerItem'] = df.TotCitations / df.TotItems\n",
    "df['AvgCit'] = df.groupby('Discipline').TotCitations.transform('mean')\n",
    "df['AvgCitPerItem'] = df.groupby('Discipline').CitPerItem.transform('mean')\n",
    "\n",
    "df_citnorm = df[['TotCitations',  'OACitations', 'NotOACitations']].div(df.AvgCit, axis=0).add_suffix('_norm')\n",
    "df_cpinorm = df[['CitPerItem_OA', 'CitPerItem_NotOA', 'CitPerItem']].div(df.AvgCitPerItem, axis=0).add_suffix('_norm')\n",
    "df = pd.concat([df, df_citnorm, df_cpinorm], axis=1)\n",
    "df['CitR_norm'] = df.CitPerItem_OA_norm/ df.CitPerItem_NotOA_norm\n",
    "\n",
    "# Population in Millions\n",
    "cgab.Population = cgab.Population / 1000000"
   ]
  },
  {
   "cell_type": "code",
   "execution_count": null,
   "id": "dc0602d9",
   "metadata": {},
   "outputs": [],
   "source": [
    "test = cgab_gdpord.reset_index()\n",
    "idx = list(test[test.Group == 'A'].index)\n"
   ]
  },
  {
   "cell_type": "code",
   "execution_count": null,
   "id": "bc61173d",
   "metadata": {},
   "outputs": [],
   "source": [
    "list(df.columns)"
   ]
  },
  {
   "cell_type": "code",
   "execution_count": null,
   "id": "b4997c97",
   "metadata": {},
   "outputs": [],
   "source": [
    "# Does the N. of OA option trend with a higher citation rate OA/notOA ?\n",
    "\n",
    "#sns.scatterplot(data=df, x=\"PercOAItems\", y=\"CitR\", hue=\"Discipline\", palette=\"deep\")\n",
    "#avg_fullOA = df[df.NotOAItems < 1].groupby('Discipline').CitPerItem_OA.mean()\n",
    "#avg_notOA = df[df.OAItems < 1].groupby('Discipline').CitPerItem_NotOA.mean()\n",
    "#pd.concat([avg_fullOA, avg_notOA], axis=1).reset_index().rename(columns={'CitPerItem_OA': 'Full OA', 'CitPerItem_NotOA': 'No OA'})\n",
    "sns.scatterplot(data=df, x=\"PercOAItems\", y=\"CitPerItem_norm\", hue=\"Discipline\", palette=\"deep\")\n",
    "t = plt.title(\"Citations per article vs Journal's percentage of OA articles, normalized by average citations per item in the discipline\")\n",
    "plt.savefig('../outputs/cit-per-item_OA-perc_norm.png')"
   ]
  },
  {
   "cell_type": "code",
   "execution_count": null,
   "id": "cc0ae7fa",
   "metadata": {},
   "outputs": [],
   "source": [
    "ax = sns.boxplot(data=df, x='PercOAItems', y='Discipline', color='w', width=0.5, linewidth=2.5, showmeans=True)\n",
    "ax = sns.swarmplot(data=df, x='PercOAItems', y='Discipline', color='k', size=3)\n",
    "t = plt.title('Percentage of OA items')\n",
    "plt.savefig('../outputs/pct_OA_discipline.png')\n",
    "#Median and quartiles, green triangle is the mean"
   ]
  },
  {
   "cell_type": "code",
   "execution_count": null,
   "id": "6f6e4956",
   "metadata": {},
   "outputs": [],
   "source": [
    "fig, axes = plt.subplots(1, 2, sharex=True, sharey=True, figsize=(8,5))\n",
    "fig.suptitle('Citations vs % of OA items')\n",
    "\n",
    "sns.scatterplot(ax=axes[0], data=df, x='PercOAItems', y='CitPerItem_NotOA_norm', hue='Discipline')\n",
    "axes[0].set_title('Not OA items')\n",
    "sns.scatterplot(ax=axes[1], data=df, x='PercOAItems', y='CitPerItem_OA_norm', hue='Discipline', legend=False)\n",
    "axes[1].set_title('OA items')\n",
    "axes[0].set(yscale=\"log\")\n",
    "axes[0].set_ylabel('Citations per item')\n",
    "plt.savefig('../outputs/cit_percOA.png')\n"
   ]
  },
  {
   "cell_type": "code",
   "execution_count": null,
   "id": "4ef1760f",
   "metadata": {},
   "outputs": [],
   "source": [
    "df[df.Discipline == 'physics'][['TotItems','OAItems']]"
   ]
  },
  {
   "cell_type": "code",
   "execution_count": null,
   "id": "3e1f708e",
   "metadata": {},
   "outputs": [],
   "source": [
    "g = sns.scatterplot(data=df, x=\"PercOAItems\", y=\"CitR_norm\", hue=\"Discipline\", palette=\"deep\")\n",
    "g.set(yscale=\"log\")"
   ]
  },
  {
   "cell_type": "code",
   "execution_count": null,
   "id": "a236d4e8",
   "metadata": {},
   "outputs": [],
   "source": [
    "sns.scatterplot(data=df, x=\"PercOAItems\", y=\"CitPerItem_OA_norm\", hue=\"Discipline\", palette=\"deep\")"
   ]
  },
  {
   "cell_type": "code",
   "execution_count": null,
   "id": "6accd5a0",
   "metadata": {},
   "outputs": [],
   "source": [
    "df.loc[df['CitPerItem_OA'] > 30]"
   ]
  },
  {
   "cell_type": "code",
   "execution_count": null,
   "id": "be6d4c87",
   "metadata": {},
   "outputs": [],
   "source": [
    "sns.scatterplot(data=df, x=\"PercNotOAItems\", y=\"CitPerItem_NotOA\", hue=\"Discipline\", palette=\"deep\")"
   ]
  },
  {
   "cell_type": "code",
   "execution_count": null,
   "id": "ba813015",
   "metadata": {
    "scrolled": false
   },
   "outputs": [],
   "source": [
    "df[df.OAItems < 1]"
   ]
  },
  {
   "cell_type": "code",
   "execution_count": null,
   "id": "423648f3",
   "metadata": {},
   "outputs": [],
   "source": [
    "sns.set(rc={'figure.figsize':(20,5)})\n",
    "sns.scatterplot(data=cgab_gdpord, x=cgab_gdpord.index, y='GDP_pc', hue='Group')\n",
    "t = plt.xticks(rotation=90)\n",
    "t = plt.title(\"Countries' GDP per capite and Group classification for APC waivers\")\n",
    "plt.savefig('../outputs/gdp.png')"
   ]
  },
  {
   "cell_type": "code",
   "execution_count": null,
   "id": "471905e5",
   "metadata": {},
   "outputs": [],
   "source": [
    "#df_c = df[countries+['Discipline']].set_index('Discipline', append=True)\n",
    "df_c = df[countries_gdpord+['Discipline']].set_index('Discipline', append=True)\n",
    "\n",
    "df_c.index.rename(['Journal', 'Discipline'], inplace=True)\n",
    "df_c = df_c.reorder_levels(['Discipline', 'Journal']).T\n",
    "#g = sns.scatterplot(data=df_c)\n",
    "#g.set_xticklabels(g.get_xticklabels(), rotation=30)\n",
    "sns.set(rc={'figure.figsize':(20,5)})\n",
    "sns.scatterplot(data=df_c)\n",
    "t = plt.xticks(rotation=90)\n",
    "t = plt.title('Tot. N of authors per Journal (2019), per Country')\n",
    "plt.savefig('../outputs/n_auth_journal_country.png')\n",
    "\n",
    "# Tot. N of authors per discipline\n",
    "#df_c.groupby('Discipline', axis=1).sum()\n",
    "# Country percentage of authors per journal\n",
    "#df_c / df_c.sum()"
   ]
  },
  {
   "cell_type": "code",
   "execution_count": null,
   "id": "baf6bf2e",
   "metadata": {
    "scrolled": true
   },
   "outputs": [],
   "source": [
    "# Normalized N of authors per population\n",
    "df_c_n = df_c.div(cgab_gdpord.Population, axis=0)\n",
    "sns.scatterplot(data=df_c_n)\n",
    "t = plt.xticks(rotation=90)\n",
    "t = plt.title('Tot. N of authors per Journal (2019), per Country, normalized per population (in M)')\n",
    "plt.savefig('../outputs/n_auth_journal_country_popnorm.png')\n"
   ]
  },
  {
   "cell_type": "code",
   "execution_count": null,
   "id": "6f8ffe67",
   "metadata": {},
   "outputs": [],
   "source": [
    "#When working with wide-form data, each column will be plotted against its index using both hue and style mapping\n",
    "# X == index; Y == columns\n",
    "#tdf = df_c / df_c.sum() #This divides by tot.N of authors!\n",
    "tdf = df_c.divide(df.TotItems, level=1) #This divides by tot N of publications\n",
    "sns.scatterplot(data=tdf)\n",
    "t = plt.xticks(rotation=90)\n",
    "t = plt.title('Percentage of authors from a Country wrt the total 2019 publications in a Journal')\n",
    "plt.savefig('../outputs/pc_auth_journal_country.png')\n"
   ]
  },
  {
   "cell_type": "code",
   "execution_count": null,
   "id": "cf28b463",
   "metadata": {},
   "outputs": [],
   "source": [
    "#tdf_n = df_c_n / df_c.sum()\n",
    "tdf_n = df_c_n.divide(df.TotItems, level=1) #This divides by tot N of publications\n",
    "sns.scatterplot(data=tdf_n)\n",
    "t = plt.xticks(rotation=90)\n",
    "t = plt.title('Percentage of authors from a Country wrt the total 2019 publications in a Journal, per population (in M)')\n",
    "plt.savefig('../outputs/pc_auth_journal_country_popnorm.png')\n"
   ]
  },
  {
   "cell_type": "code",
   "execution_count": null,
   "id": "063a4f6a",
   "metadata": {},
   "outputs": [],
   "source": [
    "tdf.head()"
   ]
  },
  {
   "cell_type": "code",
   "execution_count": null,
   "id": "01cef824",
   "metadata": {},
   "outputs": [],
   "source": [
    "#tdf2 = df[countries+['Discipline']]\n",
    "#tdf2.index.rename('Journal', inplace=True)\n",
    "#tdf2.reset_index().melt(value_vars=[('Journal', 'Discipline')])\n",
    "tdf_n_A = tdf_n[cgab_gdpord.Group == 'A']\n",
    "tdf_n_B = tdf_n[cgab_gdpord.Group == 'B']\n",
    "tdf_n_o = tdf_n[cgab_gdpord.Group=='Other']\n",
    "\n",
    "for xdf, xl in zip([tdf_n_A, tdf_n_B, tdf_n_o], ['A', 'B', 'Other']):\n",
    "    tdf2 = pd.melt(xdf.reset_index(), col_level=0, id_vars=['index'])\n",
    "    tdf2.rename(columns={'index': 'Country'}, inplace=True)\n",
    "    sns.boxplot(x='Country', y='value', hue='Discipline', data=tdf2)\n",
    "    t = plt.xticks(rotation=90)\n",
    "    t = plt.title(xl)\n",
    "    plt.savefig(f'../outputs/{xl}.png')\n",
    "    plt.clf()"
   ]
  },
  {
   "cell_type": "code",
   "execution_count": null,
   "id": "9fbaf726",
   "metadata": {},
   "outputs": [],
   "source": [
    "#tdf_n[cgab_gdpord.Group == 'A']\n"
   ]
  },
  {
   "cell_type": "markdown",
   "id": "f246e54f",
   "metadata": {},
   "source": [
    "# 3 x 3 plot\n",
    "\n",
    "Divide countries as \"A\", \"B\", \"Other\" and Journals as \"Full OA\", \"Not OA\", \"Hybrid\"\n"
   ]
  },
  {
   "cell_type": "code",
   "execution_count": null,
   "id": "62a928df",
   "metadata": {},
   "outputs": [],
   "source": [
    "# tdf_n == Percentage of authors from a Country wrt the total 2019 publications in a Journal, per population (in M)\n",
    "tdf1 = pd.melt(tdf_n.reset_index(), id_vars=['index']).rename(columns={'index': 'Country', 'value': 'PercAuthPopNorm'})\n",
    "# df_c_n == Tot. N of authors per Journal (2019), per Country, normalized per population (in M)\n",
    "tdf2 = pd.melt(df_c_n.reset_index(), id_vars=['index']).rename(columns={'index': 'Country', 'value': 'NAuthPopNorm'})\n",
    "\n",
    "tdf2['PercAuthPopNorm'] = tdf1.PercAuthPopNorm\n",
    "\n",
    "tmp = df.drop(columns=countries).drop(columns=['Discipline']).reset_index()\n",
    "tmp.rename(columns={'index': 'Journal'}, inplace=True)\n",
    "mydf = tdf2.set_index('Journal').join(tmp.set_index('Journal'))\n",
    "mydf = mydf.merge(cgab.Group, left_on='Country', right_index=True).reset_index()"
   ]
  },
  {
   "cell_type": "code",
   "execution_count": null,
   "id": "933c34cc",
   "metadata": {},
   "outputs": [],
   "source": [
    "# Check if tdf2['PercAuthPopNorm'] = tdf1.PercAuthPopNorm is legit\n",
    "c1 = tdf1.Country == tdf2.Country\n",
    "print(c1.value_counts())\n",
    "\n",
    "c2 = tdf1.Discipline == tdf2.Discipline\n",
    "print(c2.value_counts())\n",
    "\n",
    "c3 = tdf1.Journal == tdf2.Journal\n",
    "print(c3.value_counts())\n"
   ]
  },
  {
   "cell_type": "code",
   "execution_count": null,
   "id": "5849b67a",
   "metadata": {},
   "outputs": [],
   "source": [
    "def assign_OA_type(row):\n",
    "    if row.OAItems < 1:\n",
    "        row.OAType = 'NotOA'\n",
    "    elif row.NotOAItems < 1:\n",
    "        row.OAType = 'FullOA'\n",
    "    else:\n",
    "        row.OAType = 'Hybrid'\n",
    "    return row\n",
    "\n",
    "mydf['OAType'] = 'NA'\n",
    "mydf = mydf.apply(assign_OA_type, axis='columns')"
   ]
  },
  {
   "cell_type": "code",
   "execution_count": null,
   "id": "c0f7b437",
   "metadata": {},
   "outputs": [],
   "source": [
    "dis = list(mydf.Discipline.value_counts().index)\n",
    "\n",
    "fig_n, axes_n = plt.subplots(3, 3, sharex=True, sharey='row', figsize=(15,15))\n",
    "fig_n.suptitle('Number of Authors per Journal (2019) normalized per population (M)')\n",
    "fig_p, axes_p = plt.subplots(3, 3, sharex=True, sharey='row', figsize=(15,15))\n",
    "fig_p.suptitle('Percentage of Authors per Journal (2019) normalized per population (M)')\n",
    "sns.set(rc={'figure.figsize':(5,5)})\n",
    "\n",
    "for a1,g in enumerate(['A', 'B', 'Other']):\n",
    "    for a2,o in enumerate(['NotOA', 'Hybrid', 'FullOA']):\n",
    "        axes_n[a1][a2].set_title(f'{g} countries, {o} Journals')\n",
    "        sns.scatterplot(ax=axes_n[a1][a2], data=mydf[(mydf.Group==g) & (mydf.OAType==o)], x='CitPerItem_norm', y='NAuthPopNorm', hue='Discipline', hue_order=dis)\n",
    "        axes_p[a1][a2].set_title(f'{g} countries, {o} Journals')\n",
    "        sns.scatterplot(ax=axes_p[a1][a2], data=mydf[(mydf.Group==g) & (mydf.OAType==o)], x='CitPerItem_norm', y='PercAuthPopNorm', hue='Discipline', hue_order=dis)\n",
    "\n",
    "fig_n.savefig('../outputs/n_authors.png')\n",
    "fig_p.savefig('../outputs/perc_authors.png')"
   ]
  },
  {
   "cell_type": "code",
   "execution_count": null,
   "id": "b7e612f8",
   "metadata": {},
   "outputs": [],
   "source": [
    "axes_n"
   ]
  },
  {
   "cell_type": "code",
   "execution_count": null,
   "id": "a7c37cce",
   "metadata": {},
   "outputs": [],
   "source": [
    "#\n",
    "#fig_n.suptitle('Number of Authors per Journal (2019) normalized per population (M)')\n",
    "plt.clf()\n",
    "for a1,g in enumerate(['A', 'B', 'Other']):\n",
    "    fig_n, axes_n = plt.subplots(6, 1, sharex=True, figsize=(15,20))\n",
    "    fig_n.suptitle(f'Number of Authors per Journal (2019) normalized per population (M) in group \"{g}\" Countries')\n",
    "    for a2,d in enumerate(dis):\n",
    "        axes_n[a2].set_title(f'{d}')\n",
    "        sns.scatterplot(ax=axes_n[a2], data=mydf[(mydf.Group==g) & (mydf.Discipline==d)], x='Country', y='NAuthPopNorm', hue='OAType', hue_order=['NotOA', 'Hybrid', 'FullOA'])\n",
    "        t = plt.xticks(rotation=90)\n",
    "    fig_n.savefig(f'../outputs/n_authors_{g}.png')\n",
    "    plt.clf()\n"
   ]
  },
  {
   "cell_type": "code",
   "execution_count": null,
   "id": "75fbb385",
   "metadata": {},
   "outputs": [],
   "source": [
    "#\n",
    "#fig_n.suptitle('Number of Authors per Journal (2019) normalized per population (M)')\n",
    "plt.clf()\n",
    "for a1,g in enumerate(['A', 'B', 'Other']):\n",
    "    fig_p, axes_p = plt.subplots(6, 1, sharex=True, figsize=(15,20))\n",
    "    fig_p.suptitle(f'Percentage of Authors per Journal (2019) normalized per population (M) in group \"{g}\" Countries')\n",
    "    for a2,d in enumerate(dis):\n",
    "        axes_p[a2].set_title(f'{d}')\n",
    "        sns.scatterplot(ax=axes_p[a2], data=mydf[(mydf.Group==g) & (mydf.Discipline==d)], x='Country', y='PercAuthPopNorm', hue='OAType', hue_order=['NotOA', 'Hybrid', 'FullOA'])\n",
    "        t = plt.xticks(rotation=90)\n",
    "    fig_p.savefig(f'../outputs/pc_authors_{g}.png')\n",
    "    plt.clf()\n"
   ]
  },
  {
   "cell_type": "code",
   "execution_count": null,
   "id": "4b403e9c",
   "metadata": {},
   "outputs": [],
   "source": [
    "sns.set(rc={'figure.figsize':(10,5)})\n",
    "for a1,g in enumerate(['A', 'B', 'Other']):\n",
    "    for a2,d in enumerate(dis):\n",
    "        sns.scatterplot(data=mydf[(mydf.Group==g) & (mydf.Discipline==d)], x='Country', y='PercAuthPopNorm', hue='OAType', hue_order=['NotOA', 'Hybrid', 'FullOA'])\n",
    "        t = plt.xticks(rotation=90)\n",
    "        t = plt.title(f'Percentage of Authors per Journal (2019) in {d}, normalized per population (M) from group \"{g}\" Countries')\n",
    "        plt.savefig(f'../outputs/pc_authors_{g}_{d}.png')\n",
    "        plt.clf()\n"
   ]
  },
  {
   "cell_type": "code",
   "execution_count": null,
   "id": "c4d57362",
   "metadata": {},
   "outputs": [],
   "source": [
    "fig_n, axes_n = plt.subplots(3, 1, sharex=True, sharey=True, figsize=(20,15))\n",
    "for a,o in enumerate(['NotOA', 'Hybrid', 'FullOA']):\n",
    "    axes_n[a].set_title(f'{o} Journals')\n",
    "    sns.scatterplot(ax=axes_n[a], data=mydf[mydf.OAType==o], x='Country', y='NAuthPopNorm', hue='Discipline')\n",
    "    t = plt.xticks(rotation=90)"
   ]
  },
  {
   "cell_type": "code",
   "execution_count": null,
   "id": "d5f9f75c",
   "metadata": {},
   "outputs": [],
   "source": [
    "sns.scatterplot(data=mydf, x='Country', y='NAuthPopNorm', hue='OAType')\n",
    "t = plt.xticks(rotation=90)\n"
   ]
  },
  {
   "cell_type": "code",
   "execution_count": null,
   "id": "022019ae",
   "metadata": {},
   "outputs": [],
   "source": [
    "\n",
    "sns.scatterplot(data=mydf[mydf.Group=='A'], x='PercOAItems', y='PercAuthPopNorm', hue='Discipline')"
   ]
  },
  {
   "cell_type": "code",
   "execution_count": null,
   "id": "ada19bed",
   "metadata": {
    "scrolled": true
   },
   "outputs": [],
   "source": [
    "sns.scatterplot(data=mydf[mydf.Group=='B'], x='PercOAItems', y='PercAuthPopNorm', hue='Discipline')"
   ]
  },
  {
   "cell_type": "code",
   "execution_count": null,
   "id": "592e0383",
   "metadata": {},
   "outputs": [],
   "source": [
    "sns.scatterplot(data=mydf[mydf.Group=='Other'], x='PercOAItems', y='PercAuthPopNorm', hue='Discipline')"
   ]
  },
  {
   "cell_type": "code",
   "execution_count": null,
   "id": "33f78864",
   "metadata": {
    "scrolled": true
   },
   "outputs": [],
   "source": [
    "tdfs = []\n",
    "for d in tdf.columns.levels[0]:\n",
    "    tdfs.append(tdf.xs(d, level=0, axis=1))\n",
    "\n",
    "\n",
    "#tdf2 = df[countries+['Discipline']]\n",
    "#"
   ]
  },
  {
   "cell_type": "code",
   "execution_count": null,
   "id": "acc14bfb",
   "metadata": {},
   "outputs": [],
   "source": [
    "sns.relplot(data=tdfs, kind=\"line\")\n",
    "#tdfs[0]"
   ]
  },
  {
   "cell_type": "code",
   "execution_count": null,
   "id": "0245140d",
   "metadata": {},
   "outputs": [],
   "source": [
    "df_c.sum()"
   ]
  }
 ],
 "metadata": {
  "kernelspec": {
   "display_name": "Python [conda env:oa] *",
   "language": "python",
   "name": "conda-env-oa-py"
  },
  "language_info": {
   "codemirror_mode": {
    "name": "ipython",
    "version": 3
   },
   "file_extension": ".py",
   "mimetype": "text/x-python",
   "name": "python",
   "nbconvert_exporter": "python",
   "pygments_lexer": "ipython3",
   "version": "3.6.13"
  }
 },
 "nbformat": 4,
 "nbformat_minor": 5
}
