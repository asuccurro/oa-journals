{
 "cells": [
  {
   "cell_type": "markdown",
   "id": "0636976e",
   "metadata": {},
   "source": [
    "# Data analysis and visualization\n",
    "\n",
    "Code for analysis / visualization\n"
   ]
  },
  {
   "cell_type": "code",
   "execution_count": null,
   "id": "941bc9eb",
   "metadata": {},
   "outputs": [],
   "source": [
    "import pandas as pd\n",
    "import seaborn as sns\n",
    "import matplotlib.pylab as plt\n",
    "from matplotlib import rcParams\n",
    "import numpy as np\n",
    "rcParams.update({'figure.autolayout': True})\n",
    "\n",
    "df = pd.read_csv('../data/inCites/dataframe.csv', index_col=0)\n",
    "cgab = pd.read_csv('../data/inCites/countries_groupAB.csv', index_col=0)\n",
    "countries = list(cgab.index)\n",
    "cgab_gdpord = cgab.sort_values(by=['GDP_pc'])\n",
    "countries_gdpord = list(cgab_gdpord.index)\n",
    "#df_c = df[countries]\n",
    "\n",
    "df['PercOAItems'] = df.OAItems / df.TotItems\n",
    "df['PercNotOAItems'] = df.NotOAItems / df.TotItems\n",
    "df['CitR'] = df.CitPerItem_OA/ df.CitPerItem_NotOA\n",
    "df['CitPerItem'] = df.TotCitations / df.TotItems\n",
    "df['AvgCit'] = df.groupby('Discipline').TotCitations.transform('mean')\n",
    "df['AvgCitPerItem'] = df.groupby('Discipline').CitPerItem.transform('mean')\n",
    "\n",
    "df_citnorm = df[['TotCitations',  'OACitations', 'NotOACitations']].div(df.AvgCit, axis=0).add_suffix('_norm')\n",
    "df_cpinorm = df[['CitPerItem_OA', 'CitPerItem_NotOA', 'CitPerItem']].div(df.AvgCitPerItem, axis=0).add_suffix('_norm')\n",
    "df = pd.concat([df, df_citnorm, df_cpinorm], axis=1)\n",
    "df['CitR_norm'] = df.CitPerItem_OA_norm/ df.CitPerItem_NotOA_norm\n",
    "\n",
    "# Population in Millions\n",
    "cgab.Population = cgab.Population / 1000000\n",
    "\n",
    "dis = list(df.Discipline.value_counts().index)"
   ]
  },
  {
   "cell_type": "code",
   "execution_count": null,
   "id": "8b88dbf5",
   "metadata": {},
   "outputs": [],
   "source": [
    "fees = pd.read_csv('../data/Table1_journalsFees.csv')\n",
    "fees = fees[['Discipline', 'Journal name', 'Type of OA', 'OA Fee (USD)']].rename(columns={'Journal name': 'Journal', 'Type of OA': 'OAType', 'OA Fee (USD)': 'OA_APC_USD'})\n",
    "fees.OAType.value_counts().index\n",
    "\n",
    "tbc = {'Hybrid OA': 'hybrid', 'hybrid OA': 'hybrid',\n",
    "       'Gold OA': 'gold', 'Full OA': 'gold', 'Diamond OA': 'diamond',\n",
    "       'transition': 'transformative', 'Transformative': 'transformative', 'Transition': 'transformative', \n",
    "       'Green OA': 'none', 'Non OA': 'none'}\n",
    "\n",
    "tbc2 = {'diamond': 'full', 'gold': 'full', 'transformative': 'hybrid'}\n",
    "\n",
    "def uniform_oatype(row, mydict):\n",
    "    if row.OAType in mydict.keys():\n",
    "        row.OAType = mydict[row.OAType]\n",
    "    return row\n",
    "\n",
    "fees = fees.apply(uniform_oatype, args=(tbc,), axis='columns')\n",
    "fees = fees.apply(uniform_oatype, args=(tbc2,), axis='columns')"
   ]
  },
  {
   "cell_type": "code",
   "execution_count": null,
   "id": "318c60c5",
   "metadata": {},
   "outputs": [],
   "source": [
    "fees.Discipline.value_counts()"
   ]
  },
  {
   "cell_type": "code",
   "execution_count": null,
   "id": "d4717c05",
   "metadata": {},
   "outputs": [],
   "source": [
    "df[df.PercOAItems < 1].PercOAItems.max()"
   ]
  },
  {
   "cell_type": "code",
   "execution_count": null,
   "id": "0857a96d",
   "metadata": {},
   "outputs": [],
   "source": [
    "#test = cgab_gdpord.reset_index()\n",
    "#idx = list(test[test.Group == 'A'].index)\n",
    "#list(df.columns)"
   ]
  },
  {
   "cell_type": "markdown",
   "id": "96195363",
   "metadata": {},
   "source": [
    "# General plots\n",
    "\n",
    "1. ACP fees: how much does it cost to publish OA in different disciplines\n",
    "2. % OA items: how many items are published OA in different disciplines\n",
    "3. Citations vs % OA items: trend of OA citations vs OA publishing"
   ]
  },
  {
   "cell_type": "code",
   "execution_count": null,
   "id": "23502053",
   "metadata": {},
   "outputs": [],
   "source": [
    "# 1\n",
    "sns.boxplot(data=fees, hue='Discipline', x='OAType', y='OA_APC_USD', hue_order=dis, showmeans=True, meanprops={\"markerfacecolor\":\"white\", \"markeredgecolor\":\"black\"})\n",
    "t = plt.title('Median APC for publishing OA in $')\n",
    "plt.savefig('../outputs/apc_fees.png')"
   ]
  },
  {
   "cell_type": "code",
   "execution_count": null,
   "id": "30b30a08",
   "metadata": {},
   "outputs": [],
   "source": [
    "# 2\n",
    "ax = sns.boxplot(data=df, x='PercOAItems', y='Discipline', color='w', width=0.5, linewidth=2.5, showmeans=True, meanprops={\"markerfacecolor\":\"white\", \"markeredgecolor\":\"black\"})\n",
    "#ax = sns.swarmplot(data=df, x='PercOAItems', y='Discipline', color='k', size=3)\n",
    "t = plt.title('Percentage of OA items')\n",
    "plt.savefig('../outputs/pct_OA_discipline.png')\n",
    "#Median and quartiles, green triangle is the mean"
   ]
  },
  {
   "cell_type": "code",
   "execution_count": null,
   "id": "2d1122ff",
   "metadata": {},
   "outputs": [],
   "source": [
    "# 3\n",
    "\n",
    "fig, axes = plt.subplots(1, 2, sharex=True, sharey=True, figsize=(8,5))\n",
    "fig.suptitle('Citations of (not) OA items in 2017-2019 vs % of OA items published in 2017-2019')\n",
    "\n",
    "sns.scatterplot(ax=axes[0], data=df, x='PercOAItems', y='CitPerItem_NotOA_norm', hue='Discipline', hue_order=dis)\n",
    "axes[0].set_title('Not OA items')\n",
    "sns.scatterplot(ax=axes[1], data=df, x='PercOAItems', y='CitPerItem_OA_norm', hue='Discipline', hue_order=dis, legend=False)\n",
    "axes[1].set_title('OA items')\n",
    "axes[0].set(yscale=\"log\")\n",
    "axes[0].set_ylabel('Citations to items')\n",
    "plt.savefig('../outputs/cit_percOA.png')"
   ]
  },
  {
   "cell_type": "code",
   "execution_count": null,
   "id": "ed427cc7",
   "metadata": {
    "scrolled": false
   },
   "outputs": [],
   "source": [
    "# 3b\n",
    "\n",
    "fig, axes = plt.subplots(1, 2, sharex=True, sharey=True, figsize=(8,5))\n",
    "fig.suptitle('Citations of (not) OA items in 2017-2019 vs % of OA items published in 2019')\n",
    "\n",
    "sns.scatterplot(ax=axes[0], data=df, x='PercOAItems', y='NotOACitations_norm', hue='Discipline',hue_order=dis)\n",
    "axes[0].set_title('Not OA items')\n",
    "sns.scatterplot(ax=axes[1], data=df, x='PercOAItems', y='OACitations_norm', hue='Discipline', hue_order=dis, legend=False)\n",
    "axes[1].set_title('OA items')\n",
    "#axes[0].set(yscale=\"log\")\n",
    "axes[0].set_ylabel('Citations/discipline_avg')\n",
    "plt.savefig('../outputs/cit_norm_percOA.png')"
   ]
  },
  {
   "cell_type": "code",
   "execution_count": null,
   "id": "5f925dc8",
   "metadata": {},
   "outputs": [],
   "source": [
    "import numpy as np\n",
    "g = sns.scatterplot(data=df, x='PercOAItems', y='CitR', hue='Discipline', hue_order=dis)\n",
    "g.set(yscale=\"log\")\n",
    "g.axhline(1, color='k')\n",
    "g.set_title('Ratio of citations to 2017-2019 OA / not OA items')\n",
    "plt.savefig('../outputs/citation_ratio_OA.png')\n",
    "\n",
    "#g = sns.scatterplot(data=df, x=\"PercOAItems\", y=\"CitR_norm\", hue=\"Discipline\", palette=\"deep\")\n",
    "#g.set(yscale=\"log\")"
   ]
  },
  {
   "cell_type": "code",
   "execution_count": null,
   "id": "f0c1f1e5",
   "metadata": {},
   "outputs": [],
   "source": [
    "# Which journals are outliers in OA items?\n",
    "\n",
    "df[df.CitPerItem_OA_norm > 5][['OAItems', 'TotItems', 'TotCitations',  'NotOACitations',  'OACitations']]\n",
    "df.loc[df.OACitations_norm > 6]\n",
    "df.loc['NAT-HUM-BEHAV', 'OACitations_norm']"
   ]
  },
  {
   "cell_type": "code",
   "execution_count": null,
   "id": "acce363d",
   "metadata": {},
   "outputs": [],
   "source": [
    "# # Does the N. of OA option trend with a higher citation rate OA/notOA ?\n",
    "\n",
    "# #sns.scatterplot(data=df, x=\"PercOAItems\", y=\"CitR\", hue=\"Discipline\", palette=\"deep\")\n",
    "# #avg_fullOA = df[df.NotOAItems < 1].groupby('Discipline').CitPerItem_OA.mean()\n",
    "# #avg_notOA = df[df.OAItems < 1].groupby('Discipline').CitPerItem_NotOA.mean()\n",
    "# #pd.concat([avg_fullOA, avg_notOA], axis=1).reset_index().rename(columns={'CitPerItem_OA': 'Full OA', 'CitPerItem_NotOA': 'No OA'})\n",
    "\n",
    "# sns.scatterplot(data=df, x=\"PercOAItems\", y=\"CitPerItem_norm\", hue=\"Discipline\", palette=\"deep\")\n",
    "# t = plt.title(\"Citations per article vs Journal's percentage of OA articles, normalized by average citations per item in the discipline\")\n",
    "# plt.savefig('../outputs/cit-per-item_OA-perc_norm.png')"
   ]
  },
  {
   "cell_type": "code",
   "execution_count": null,
   "id": "933ea8bb",
   "metadata": {},
   "outputs": [],
   "source": [
    "#df[df.Discipline == 'physics'][['TotItems','OAItems']]"
   ]
  },
  {
   "cell_type": "markdown",
   "id": "69d3e9ea",
   "metadata": {},
   "source": [
    "# Country-related plots\n",
    "\n"
   ]
  },
  {
   "cell_type": "code",
   "execution_count": null,
   "id": "7d15cc21",
   "metadata": {},
   "outputs": [],
   "source": [
    "sns.set(rc={'figure.figsize':(20,5)})\n",
    "sns.scatterplot(data=cgab_gdpord, x=cgab_gdpord.index, y='GDP_pc', hue='Group')\n",
    "t = plt.xticks(rotation=90)\n",
    "t = plt.title(\"Countries' GDP per capite and Group classification for APC waivers\")\n",
    "plt.savefig('../outputs/gdp.png')"
   ]
  },
  {
   "cell_type": "code",
   "execution_count": null,
   "id": "af662198",
   "metadata": {},
   "outputs": [],
   "source": [
    "#df_c = df[countries+['Discipline']].set_index('Discipline', append=True)\n",
    "df_c = df[countries_gdpord+['Discipline']].set_index('Discipline', append=True)\n",
    "\n",
    "df_c.index.rename(['Journal', 'Discipline'], inplace=True)\n",
    "df_c = df_c.reorder_levels(['Discipline', 'Journal']).T\n",
    "\n",
    "# Normalized N of authors per population\n",
    "df_c_n = df_c.div(cgab_gdpord.Population, axis=0)\n",
    "\n",
    "#tdf = df_c / df_c.sum() #This divides by tot.N of authors!\n",
    "tdf = df_c.divide(df.TotItems, level=1) #This divides by tot N of publications\n",
    "\n",
    "#tdf_n = df_c_n / df_c.sum()\n",
    "tdf_n = df_c_n.divide(df.TotItems, level=1) #This divides by tot N of publications\n",
    "\n",
    "# tdf_n == Percentage of authors from a Country wrt the total 2019 publications in a Journal, per population (in M)\n",
    "tdf1 = pd.melt(tdf_n.reset_index(), id_vars=['index']).rename(columns={'index': 'Country', 'value': 'PercAuthPopNorm'})\n",
    "# df_c_n == Tot. N of authors per Journal (2019), per Country, normalized per population (in M)\n",
    "tdf2 = pd.melt(df_c_n.reset_index(), id_vars=['index']).rename(columns={'index': 'Country', 'value': 'NAuthPopNorm'})\n",
    "\n",
    "tdf2['PercAuthPopNorm'] = tdf1.PercAuthPopNorm\n",
    "\n",
    "tmp = df.drop(columns=countries).drop(columns=['Discipline']).reset_index()\n",
    "tmp.rename(columns={'index': 'Journal'}, inplace=True)\n",
    "mydf = tdf2.set_index('Journal').join(tmp.set_index('Journal'))\n",
    "mydf = mydf.merge(cgab[['Group', 'GDP_pc']], left_on='Country', right_index=True).reset_index()\n",
    "\n",
    "def assign_OA_type(row):\n",
    "    if row.OAItems < 1:\n",
    "        row.OAType = 'NotOA'\n",
    "    elif row.NotOAItems < 1:\n",
    "        row.OAType = 'FullOA'\n",
    "    else:\n",
    "        row.OAType = 'Hybrid'\n",
    "    return row\n",
    "\n",
    "mydf['OAType'] = 'NA'\n",
    "mydf = mydf.apply(assign_OA_type, axis='columns')"
   ]
  },
  {
   "cell_type": "code",
   "execution_count": null,
   "id": "95e07c3b",
   "metadata": {},
   "outputs": [],
   "source": [
    "fig_p, axes_p = plt.subplots(3, 1, sharex=True, sharey=True, figsize=(15,10))\n",
    "fig_p.suptitle('Percentage of Authors per Journal (2017-2019) normalized per population (M) per GDP per capita')\n",
    "for a2,o in enumerate(['NotOA', 'Hybrid', 'FullOA']):\n",
    "    axes_p[a2].set_title(f'{o} Journals')\n",
    "    sns.scatterplot(ax=axes_p[a2], data=mydf[(mydf.PercAuthPopNorm>0) & (mydf.OAType == o)], x='GDP_pc', y='PercAuthPopNorm', hue='Discipline', hue_order=dis)\n",
    "    axes_p[a2].set(xscale='log')\n",
    "fig_p.savefig('../outputs/pc_auth_oatype_gdp.png')"
   ]
  },
  {
   "cell_type": "code",
   "execution_count": null,
   "id": "5db8850e",
   "metadata": {},
   "outputs": [],
   "source": [
    "# # Check if tdf2['PercAuthPopNorm'] = tdf1.PercAuthPopNorm is legit\n",
    "# c1 = tdf1.Country == tdf2.Country\n",
    "# print(c1.value_counts())\n",
    "\n",
    "# c2 = tdf1.Discipline == tdf2.Discipline\n",
    "# print(c2.value_counts())\n",
    "\n",
    "# c3 = tdf1.Journal == tdf2.Journal\n",
    "# print(c3.value_counts())\n"
   ]
  },
  {
   "cell_type": "code",
   "execution_count": null,
   "id": "4ff40f0a",
   "metadata": {},
   "outputs": [],
   "source": [
    "#g = sns.scatterplot(data=df_c)\n",
    "#g.set_xticklabels(g.get_xticklabels(), rotation=30)\n",
    "sns.set(rc={'figure.figsize':(20,5)})\n",
    "sns.scatterplot(data=df_c)\n",
    "t = plt.xticks(rotation=90)\n",
    "t = plt.title('Tot. N of authors per Journal (2019), per Country')\n",
    "plt.savefig('../outputs/n_auth_journal_country.png')\n",
    "\n",
    "# Tot. N of authors per discipline\n",
    "#df_c.groupby('Discipline', axis=1).sum()\n",
    "# Country percentage of authors per journal\n",
    "#df_c / df_c.sum()"
   ]
  },
  {
   "cell_type": "code",
   "execution_count": null,
   "id": "e69cef7e",
   "metadata": {
    "scrolled": true
   },
   "outputs": [],
   "source": [
    "sns.scatterplot(data=df_c_n)\n",
    "t = plt.xticks(rotation=90)\n",
    "t = plt.title('Tot. N of authors per Journal (2019), per Country, normalized per population (in M)')\n",
    "plt.savefig('../outputs/n_auth_journal_country_popnorm.png')"
   ]
  },
  {
   "cell_type": "code",
   "execution_count": null,
   "id": "6a101afe",
   "metadata": {},
   "outputs": [],
   "source": [
    "#When working with wide-form data, each column will be plotted against its index using both hue and style mapping\n",
    "# X == index; Y == columns\n",
    "sns.scatterplot(data=tdf)\n",
    "t = plt.xticks(rotation=90)\n",
    "t = plt.title('Percentage of authors from a Country wrt the total 2019 publications in a Journal')\n",
    "plt.savefig('../outputs/pc_auth_journal_country.png')"
   ]
  },
  {
   "cell_type": "code",
   "execution_count": null,
   "id": "7481af2b",
   "metadata": {},
   "outputs": [],
   "source": [
    "sns.scatterplot(data=tdf_n)\n",
    "t = plt.xticks(rotation=90)\n",
    "t = plt.title('Percentage of authors from a Country wrt the total 2019 publications in a Journal, per population (in M)')\n",
    "plt.savefig('../outputs/pc_auth_journal_country_popnorm.png')"
   ]
  },
  {
   "cell_type": "code",
   "execution_count": null,
   "id": "b6e748f3",
   "metadata": {},
   "outputs": [],
   "source": [
    "# #tdf2 = df[countries+['Discipline']]\n",
    "# #tdf2.index.rename('Journal', inplace=True)\n",
    "# #tdf2.reset_index().melt(value_vars=[('Journal', 'Discipline')])\n",
    "# tdf_n_A = tdf_n[cgab_gdpord.Group == 'A']\n",
    "# tdf_n_B = tdf_n[cgab_gdpord.Group == 'B']\n",
    "# tdf_n_o = tdf_n[cgab_gdpord.Group=='Other']\n",
    "\n",
    "# for xdf, xl in zip([tdf_n_A, tdf_n_B, tdf_n_o], ['A', 'B', 'Other']):\n",
    "#     tdf2 = pd.melt(xdf.reset_index(), col_level=0, id_vars=['index'])\n",
    "#     tdf2.rename(columns={'index': 'Country'}, inplace=True)\n",
    "#     sns.boxplot(x='Country', y='value', hue='Discipline', data=tdf2)\n",
    "#     t = plt.xticks(rotation=90)\n",
    "#     t = plt.title(xl)\n",
    "#     plt.savefig(f'../outputs/{xl}.png')\n",
    "#     plt.clf()"
   ]
  },
  {
   "cell_type": "markdown",
   "id": "342bfc82",
   "metadata": {},
   "source": [
    "# 3 x 3 plot\n",
    "\n",
    "Divide countries as \"A\", \"B\", \"Other\" and Journals as \"Full OA\", \"Not OA\", \"Hybrid\"\n"
   ]
  },
  {
   "cell_type": "code",
   "execution_count": null,
   "id": "18fe9a36",
   "metadata": {},
   "outputs": [],
   "source": []
  },
  {
   "cell_type": "code",
   "execution_count": null,
   "id": "2ddee378",
   "metadata": {},
   "outputs": [],
   "source": [
    "fig_n, axes_n = plt.subplots(3, 3, sharex=True, sharey='row', figsize=(15,15))\n",
    "fig_n.suptitle('Number of Authors per Journal (2019) normalized per population (M)')\n",
    "fig_p, axes_p = plt.subplots(3, 3, sharex=True, sharey='row', figsize=(15,15))\n",
    "fig_p.suptitle('Percentage of Authors per Journal (2019) normalized per population (M)')\n",
    "sns.set(rc={'figure.figsize':(5,5)})\n",
    "\n",
    "for a1,g in enumerate(['A', 'B', 'Other']):\n",
    "    for a2,o in enumerate(['NotOA', 'Hybrid', 'FullOA']):\n",
    "        axes_n[a1][a2].set_title(f'{g} countries, {o} Journals')\n",
    "        sns.scatterplot(ax=axes_n[a1][a2], data=mydf[(mydf.Group==g) & (mydf.OAType==o)], x='CitPerItem_norm', y='NAuthPopNorm', hue='Discipline', hue_order=dis)\n",
    "        axes_p[a1][a2].set_title(f'{g} countries, {o} Journals')\n",
    "        sns.scatterplot(ax=axes_p[a1][a2], data=mydf[(mydf.Group==g) & (mydf.OAType==o)], x='CitPerItem_norm', y='PercAuthPopNorm', hue='Discipline', hue_order=dis)\n",
    "\n",
    "fig_n.savefig('../outputs/n_authors.png')\n",
    "fig_p.savefig('../outputs/perc_authors.png')"
   ]
  },
  {
   "cell_type": "code",
   "execution_count": null,
   "id": "08f31691",
   "metadata": {},
   "outputs": [],
   "source": [
    "axes_n"
   ]
  },
  {
   "cell_type": "code",
   "execution_count": null,
   "id": "dfe93a81",
   "metadata": {},
   "outputs": [],
   "source": [
    "#\n",
    "#fig_n.suptitle('Number of Authors per Journal (2019) normalized per population (M)')\n",
    "plt.clf()\n",
    "for a1,g in enumerate(['A', 'B', 'Other']):\n",
    "    fig_n, axes_n = plt.subplots(6, 1, sharex=True, figsize=(15,20))\n",
    "    fig_n.suptitle(f'Number of Authors per Journal (2019) normalized per population (M) in group \"{g}\" Countries')\n",
    "    for a2,d in enumerate(dis):\n",
    "        axes_n[a2].set_title(f'{d}')\n",
    "        sns.scatterplot(ax=axes_n[a2], data=mydf[(mydf.Group==g) & (mydf.Discipline==d)], x='Country', y='NAuthPopNorm', hue='OAType', hue_order=['NotOA', 'Hybrid', 'FullOA'])\n",
    "        t = plt.xticks(rotation=90)\n",
    "    fig_n.savefig(f'../outputs/n_authors_{g}.png')\n",
    "    plt.clf()\n"
   ]
  },
  {
   "cell_type": "code",
   "execution_count": null,
   "id": "c60c84db",
   "metadata": {},
   "outputs": [],
   "source": [
    "#\n",
    "#fig_n.suptitle('Number of Authors per Journal (2019) normalized per population (M)')\n",
    "plt.clf()\n",
    "for a1,g in enumerate(['A', 'B', 'Other']):\n",
    "    fig_p, axes_p = plt.subplots(6, 1, sharex=True, figsize=(15,20))\n",
    "    fig_p.suptitle(f'Percentage of Authors per Journal (2019) normalized per population (M) in group \"{g}\" Countries')\n",
    "    for a2,d in enumerate(dis):\n",
    "        axes_p[a2].set_title(f'{d}')\n",
    "        sns.scatterplot(ax=axes_p[a2], data=mydf[(mydf.Group==g) & (mydf.Discipline==d)], x='Country', y='PercAuthPopNorm', hue='OAType', hue_order=['NotOA', 'Hybrid', 'FullOA'])\n",
    "        t = plt.xticks(rotation=90)\n",
    "    fig_p.savefig(f'../outputs/pc_authors_{g}.png')\n",
    "    plt.clf()\n"
   ]
  },
  {
   "cell_type": "code",
   "execution_count": null,
   "id": "5bd845bc",
   "metadata": {},
   "outputs": [],
   "source": [
    "sns.set(rc={'figure.figsize':(10,5)})\n",
    "for a1,g in enumerate(['A', 'B', 'Other']):\n",
    "    for a2,d in enumerate(dis):\n",
    "        sns.scatterplot(data=mydf[(mydf.Group==g) & (mydf.Discipline==d)], x='Country', y='PercAuthPopNorm', hue='OAType', hue_order=['NotOA', 'Hybrid', 'FullOA'])\n",
    "        t = plt.xticks(rotation=90)\n",
    "        t = plt.title(f'Percentage of Authors per Journal (2019) in {d}, normalized per population (M) from group \"{g}\" Countries')\n",
    "        plt.savefig(f'../outputs/pc_authors_{g}_{d}.png')\n",
    "        plt.clf()\n"
   ]
  },
  {
   "cell_type": "code",
   "execution_count": null,
   "id": "17302265",
   "metadata": {},
   "outputs": [],
   "source": [
    "fig_n, axes_n = plt.subplots(3, 1, sharex=True, sharey=True, figsize=(20,15))\n",
    "for a,o in enumerate(['NotOA', 'Hybrid', 'FullOA']):\n",
    "    axes_n[a].set_title(f'{o} Journals')\n",
    "    sns.scatterplot(ax=axes_n[a], data=mydf[mydf.OAType==o], x='Country', y='NAuthPopNorm', hue='Discipline')\n",
    "    t = plt.xticks(rotation=90)"
   ]
  },
  {
   "cell_type": "code",
   "execution_count": null,
   "id": "da5a2bda",
   "metadata": {},
   "outputs": [],
   "source": [
    "sns.scatterplot(data=mydf, x='Country', y='NAuthPopNorm', hue='OAType')\n",
    "t = plt.xticks(rotation=90)\n"
   ]
  },
  {
   "cell_type": "code",
   "execution_count": null,
   "id": "56062c1a",
   "metadata": {},
   "outputs": [],
   "source": [
    "\n",
    "sns.scatterplot(data=mydf[mydf.Group=='A'], x='PercOAItems', y='PercAuthPopNorm', hue='Discipline')"
   ]
  },
  {
   "cell_type": "code",
   "execution_count": null,
   "id": "325880dd",
   "metadata": {
    "scrolled": true
   },
   "outputs": [],
   "source": [
    "sns.scatterplot(data=mydf[mydf.Group=='B'], x='PercOAItems', y='PercAuthPopNorm', hue='Discipline')"
   ]
  },
  {
   "cell_type": "code",
   "execution_count": null,
   "id": "6e88234d",
   "metadata": {},
   "outputs": [],
   "source": [
    "sns.scatterplot(data=mydf[mydf.Group=='Other'], x='PercOAItems', y='PercAuthPopNorm', hue='Discipline')"
   ]
  },
  {
   "cell_type": "code",
   "execution_count": null,
   "id": "d9f563b5",
   "metadata": {
    "scrolled": true
   },
   "outputs": [],
   "source": [
    "tdfs = []\n",
    "for d in tdf.columns.levels[0]:\n",
    "    tdfs.append(tdf.xs(d, level=0, axis=1))\n",
    "\n",
    "\n",
    "#tdf2 = df[countries+['Discipline']]\n",
    "#"
   ]
  },
  {
   "cell_type": "code",
   "execution_count": null,
   "id": "fe448ec9",
   "metadata": {},
   "outputs": [],
   "source": [
    "sns.relplot(data=tdfs, kind=\"line\")\n",
    "#tdfs[0]"
   ]
  },
  {
   "cell_type": "code",
   "execution_count": null,
   "id": "7ce811b9",
   "metadata": {},
   "outputs": [],
   "source": [
    "df_c.sum()"
   ]
  }
 ],
 "metadata": {
  "kernelspec": {
   "display_name": "Python [conda env:oa] *",
   "language": "python",
   "name": "conda-env-oa-py"
  },
  "language_info": {
   "codemirror_mode": {
    "name": "ipython",
    "version": 3
   },
   "file_extension": ".py",
   "mimetype": "text/x-python",
   "name": "python",
   "nbconvert_exporter": "python",
   "pygments_lexer": "ipython3",
   "version": "3.6.13"
  }
 },
 "nbformat": 4,
 "nbformat_minor": 5
}
