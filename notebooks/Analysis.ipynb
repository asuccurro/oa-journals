{
 "cells": [
  {
   "cell_type": "markdown",
   "id": "ffc63d88",
   "metadata": {},
   "source": [
    "# Data analysis and visualization\n",
    "\n",
    "Code for analysis / visualization\n"
   ]
  },
  {
   "cell_type": "code",
   "execution_count": null,
   "id": "d6c27346",
   "metadata": {},
   "outputs": [],
   "source": [
    "import pandas as pd\n",
    "import seaborn as sns\n",
    "import matplotlib.pylab as plt\n",
    "\n",
    "df = pd.read_csv('../data/inCites/dataframe.csv', index_col=0)\n",
    "cgab = pd.read_csv('../data/inCites/countries_groupAB.csv', index_col=0)\n",
    "countries = list(cgab.index)\n",
    "#df_c = df[countries]\n",
    "\n",
    "df['PercOAItems'] = df.OAItems / df.TotItems\n",
    "df['PercNotOAItems'] = df.NotOAItems / df.TotItems\n",
    "df['CitR'] = df.CitPerItem_OA/ df.CitPerItem_NotOA\n"
   ]
  },
  {
   "cell_type": "code",
   "execution_count": null,
   "id": "f769e23b",
   "metadata": {},
   "outputs": [],
   "source": [
    "#df"
   ]
  },
  {
   "cell_type": "code",
   "execution_count": null,
   "id": "ac8b9142",
   "metadata": {},
   "outputs": [],
   "source": [
    "sns.scatterplot(data=df, x=\"PercOAItems\", y=\"CitPerItem_OA\", hue=\"Discipline\", palette=\"deep\")"
   ]
  },
  {
   "cell_type": "code",
   "execution_count": null,
   "id": "6b1e9124",
   "metadata": {},
   "outputs": [],
   "source": [
    "df.loc[df['CitPerItem_OA'] > 30]"
   ]
  },
  {
   "cell_type": "code",
   "execution_count": null,
   "id": "837d5ff7",
   "metadata": {},
   "outputs": [],
   "source": [
    "sns.scatterplot(data=df, x=\"PercNotOAItems\", y=\"CitPerItem_NotOA\", hue=\"Discipline\", palette=\"deep\")"
   ]
  },
  {
   "cell_type": "code",
   "execution_count": null,
   "id": "b02e9874",
   "metadata": {},
   "outputs": [],
   "source": [
    "# Does the N. of OA option trend with a higher citation rate OA/notOA ?\n",
    "sns.scatterplot(data=df, x=\"PercOAItems\", y=\"CitR\", hue=\"Discipline\", palette=\"deep\")\n",
    "avg_fullOA = df[df.NotOAItems < 1].groupby('Discipline').CitPerItem_OA.mean()\n",
    "avg_notOA = df[df.OAItems < 1].groupby('Discipline').CitPerItem_NotOA.mean()\n"
   ]
  },
  {
   "cell_type": "code",
   "execution_count": null,
   "id": "148e3a3f",
   "metadata": {},
   "outputs": [],
   "source": [
    "pd.concat([avg_fullOA, avg_notOA], axis=1).reset_index().rename(columns={'CitPerItem_OA': 'Full OA', 'CitPerItem_NotOA': 'No OA'})"
   ]
  },
  {
   "cell_type": "code",
   "execution_count": null,
   "id": "9c2a1106",
   "metadata": {
    "scrolled": false
   },
   "outputs": [],
   "source": [
    "df[df.OAItems < 1]"
   ]
  },
  {
   "cell_type": "code",
   "execution_count": null,
   "id": "1552167d",
   "metadata": {},
   "outputs": [],
   "source": [
    "df_c = df[countries+['Discipline']].set_index('Discipline', append=True)\n",
    "df_c.index.rename(['Journal', 'Discipline'], inplace=True)\n",
    "df_c = df_c.reorder_levels(['Discipline', 'Journal']).T\n",
    "#g = sns.scatterplot(data=df_c)\n",
    "#g.set_xticklabels(g.get_xticklabels(), rotation=30)\n",
    "sns.set(rc={'figure.figsize':(20,5)})\n",
    "sns.scatterplot(data=df_c)\n",
    "t = plt.xticks(rotation=90)\n",
    "\n",
    "\n",
    "\n",
    "# Tot. N of authors per discipline\n",
    "#df_c.groupby('Discipline', axis=1).sum()\n",
    "# Country percentage of authors per journal\n",
    "#df_c / df_c.sum()"
   ]
  },
  {
   "cell_type": "code",
   "execution_count": null,
   "id": "a5d55b5e",
   "metadata": {},
   "outputs": [],
   "source": [
    "tdf = df_c / df_c.sum()\n",
    "sns.scatterplot(data=tdf)\n",
    "t = plt.xticks(rotation=90)"
   ]
  },
  {
   "cell_type": "code",
   "execution_count": null,
   "id": "759e9375",
   "metadata": {},
   "outputs": [],
   "source": []
  },
  {
   "cell_type": "code",
   "execution_count": null,
   "id": "bd4780a9",
   "metadata": {},
   "outputs": [],
   "source": [
    "df_c.sum()"
   ]
  }
 ],
 "metadata": {
  "kernelspec": {
   "display_name": "Python [conda env:oa] *",
   "language": "python",
   "name": "conda-env-oa-py"
  },
  "language_info": {
   "codemirror_mode": {
    "name": "ipython",
    "version": 3
   },
   "file_extension": ".py",
   "mimetype": "text/x-python",
   "name": "python",
   "nbconvert_exporter": "python",
   "pygments_lexer": "ipython3",
   "version": "3.6.13"
  }
 },
 "nbformat": 4,
 "nbformat_minor": 5
}
