{
 "cells": [
  {
   "cell_type": "markdown",
   "id": "53aab16b",
   "metadata": {},
   "source": [
    "# Data analysis and visualization\n",
    "\n",
    "Code for analysis / visualization\n"
   ]
  },
  {
   "cell_type": "code",
   "execution_count": null,
   "id": "4ea35ce5",
   "metadata": {},
   "outputs": [],
   "source": [
    "import pandas as pd\n",
    "import seaborn as sns\n",
    "import matplotlib.pylab as plt\n",
    "from matplotlib import rcParams\n",
    "rcParams.update({'figure.autolayout': True})\n",
    "\n",
    "df = pd.read_csv('../data/inCites/dataframe.csv', index_col=0)\n",
    "cgab = pd.read_csv('../data/inCites/countries_groupAB.csv', index_col=0)\n",
    "countries = list(cgab.index)\n",
    "#df_c = df[countries]\n",
    "\n",
    "df['PercOAItems'] = df.OAItems / df.TotItems\n",
    "df['PercNotOAItems'] = df.NotOAItems / df.TotItems\n",
    "df['CitR'] = df.CitPerItem_OA/ df.CitPerItem_NotOA\n",
    "\n",
    "# Population in Millions\n",
    "cgab.Population = cgab.Population / 1000000"
   ]
  },
  {
   "cell_type": "code",
   "execution_count": null,
   "id": "384ea75d",
   "metadata": {},
   "outputs": [],
   "source": []
  },
  {
   "cell_type": "code",
   "execution_count": null,
   "id": "8fd0c6ff",
   "metadata": {},
   "outputs": [],
   "source": [
    "sns.scatterplot(data=df, x=\"PercOAItems\", y=\"CitPerItem_OA\", hue=\"Discipline\", palette=\"deep\")"
   ]
  },
  {
   "cell_type": "code",
   "execution_count": null,
   "id": "09fa9d83",
   "metadata": {},
   "outputs": [],
   "source": [
    "df.loc[df['CitPerItem_OA'] > 30]"
   ]
  },
  {
   "cell_type": "code",
   "execution_count": null,
   "id": "b6bc67f5",
   "metadata": {},
   "outputs": [],
   "source": [
    "sns.scatterplot(data=df, x=\"PercNotOAItems\", y=\"CitPerItem_NotOA\", hue=\"Discipline\", palette=\"deep\")"
   ]
  },
  {
   "cell_type": "code",
   "execution_count": null,
   "id": "16eb04a4",
   "metadata": {},
   "outputs": [],
   "source": [
    "# Does the N. of OA option trend with a higher citation rate OA/notOA ?\n",
    "sns.scatterplot(data=df, x=\"PercOAItems\", y=\"CitR\", hue=\"Discipline\", palette=\"deep\")\n",
    "avg_fullOA = df[df.NotOAItems < 1].groupby('Discipline').CitPerItem_OA.mean()\n",
    "avg_notOA = df[df.OAItems < 1].groupby('Discipline').CitPerItem_NotOA.mean()\n"
   ]
  },
  {
   "cell_type": "code",
   "execution_count": null,
   "id": "9b14b153",
   "metadata": {},
   "outputs": [],
   "source": [
    "pd.concat([avg_fullOA, avg_notOA], axis=1).reset_index().rename(columns={'CitPerItem_OA': 'Full OA', 'CitPerItem_NotOA': 'No OA'})"
   ]
  },
  {
   "cell_type": "code",
   "execution_count": null,
   "id": "815e8212",
   "metadata": {
    "scrolled": false
   },
   "outputs": [],
   "source": [
    "df[df.OAItems < 1]"
   ]
  },
  {
   "cell_type": "code",
   "execution_count": null,
   "id": "cfe84915",
   "metadata": {},
   "outputs": [],
   "source": [
    "df_c = df[countries+['Discipline']].set_index('Discipline', append=True)\n",
    "df_c.index.rename(['Journal', 'Discipline'], inplace=True)\n",
    "df_c = df_c.reorder_levels(['Discipline', 'Journal']).T\n",
    "#g = sns.scatterplot(data=df_c)\n",
    "#g.set_xticklabels(g.get_xticklabels(), rotation=30)\n",
    "sns.set(rc={'figure.figsize':(20,5)})\n",
    "sns.scatterplot(data=df_c)\n",
    "t = plt.xticks(rotation=90)\n",
    "t = plt.title('Tot. N of authors per Journal (2019), per Country')\n",
    "plt.savefig('../outputs/n_auth_journal_country.png')\n",
    "\n",
    "# Tot. N of authors per discipline\n",
    "#df_c.groupby('Discipline', axis=1).sum()\n",
    "# Country percentage of authors per journal\n",
    "#df_c / df_c.sum()"
   ]
  },
  {
   "cell_type": "code",
   "execution_count": null,
   "id": "50b307cd",
   "metadata": {
    "scrolled": true
   },
   "outputs": [],
   "source": [
    "# Normalized N of authors per population\n",
    "df_c_n = df_c.div(cgab.Population, axis=0)\n",
    "sns.scatterplot(data=df_c_n)\n",
    "t = plt.xticks(rotation=90)\n",
    "t = plt.title('Tot. N of authors per Journal (2019), per Country, normalized per population (in M)')\n",
    "plt.savefig('../outputs/n_auth_journal_country_popnorm.png')\n"
   ]
  },
  {
   "cell_type": "code",
   "execution_count": null,
   "id": "51f9f0ba",
   "metadata": {},
   "outputs": [],
   "source": [
    "#When working with wide-form data, each column will be plotted against its index using both hue and style mapping\n",
    "# X == index; Y == columns\n",
    "tdf = df_c / df_c.sum()\n",
    "sns.scatterplot(data=tdf)\n",
    "t = plt.xticks(rotation=90)\n",
    "t = plt.title('Percentage of authors from a Country wrt the total 2019 publications in a Journal')\n",
    "plt.savefig('../outputs/pc_auth_journal_country.png')\n"
   ]
  },
  {
   "cell_type": "code",
   "execution_count": null,
   "id": "785086ab",
   "metadata": {},
   "outputs": [],
   "source": [
    "tdf_n = df_c_n / df_c_n.sum()\n",
    "sns.scatterplot(data=tdf_n)\n",
    "t = plt.xticks(rotation=90)\n",
    "t = plt.title('Percentage of authors from a Country wrt the total 2019 publications in a Journal, per population (in M)')\n",
    "plt.savefig('../outputs/pc_auth_journal_country_popnorm.png')\n"
   ]
  },
  {
   "cell_type": "code",
   "execution_count": null,
   "id": "fa992f3e",
   "metadata": {},
   "outputs": [],
   "source": [
    "tdf.head()"
   ]
  },
  {
   "cell_type": "code",
   "execution_count": null,
   "id": "73fe23fc",
   "metadata": {},
   "outputs": [],
   "source": [
    "#tdf2 = df[countries+['Discipline']]\n",
    "#tdf2.index.rename('Journal', inplace=True)\n",
    "#tdf2.reset_index().melt(value_vars=[('Journal', 'Discipline')])\n",
    "tdf_n_A = tdf_n.loc[cgab.GroupA > 0]\n",
    "tdf_n_B = tdf_n.loc[cgab.GroupB > 0]\n",
    "tdf_n_o = tdf_n.loc[(cgab.GroupA < 1) & (cgab.GroupB < 1)]\n",
    "\n",
    "\n",
    "# Group A / B not correct - check e.g. Gaza (name mismatch to fix)\n",
    "\n",
    "for xdf, xl in zip([tdf_n_A, tdf_n_B, tdf_n_o], ['A', 'B', 'other']):\n",
    "    tdf2 = pd.melt(xdf.reset_index(), col_level=0, id_vars=['index'])#, value_vars=['B'])\n",
    "    tdf2.rename(columns={'index': 'Country'}, inplace=True)\n",
    "    sns.boxplot(x='Country', y='value', hue='Discipline', data=tdf2)\n",
    "    t = plt.xticks(rotation=90)\n",
    "    t = plt.title(xl)\n",
    "    plt.savefig(f'../outputs/{xl}.png')"
   ]
  },
  {
   "cell_type": "code",
   "execution_count": null,
   "id": "80450839",
   "metadata": {},
   "outputs": [],
   "source": []
  },
  {
   "cell_type": "code",
   "execution_count": null,
   "id": "6409f488",
   "metadata": {},
   "outputs": [],
   "source": [
    "tdf2.head()"
   ]
  },
  {
   "cell_type": "code",
   "execution_count": null,
   "id": "41b3a27a",
   "metadata": {},
   "outputs": [],
   "source": [
    "tdf.columns"
   ]
  },
  {
   "cell_type": "code",
   "execution_count": null,
   "id": "ae59fa75",
   "metadata": {
    "scrolled": true
   },
   "outputs": [],
   "source": [
    "tdfs = []\n",
    "for d in tdf.columns.levels[0]:\n",
    "    tdfs.append(tdf.xs(d, level=0, axis=1))\n",
    "\n",
    "\n",
    "#tdf2 = df[countries+['Discipline']]\n",
    "#"
   ]
  },
  {
   "cell_type": "code",
   "execution_count": null,
   "id": "31f4eb6b",
   "metadata": {},
   "outputs": [],
   "source": [
    "sns.relplot(data=tdfs, kind=\"line\")\n",
    "#tdfs[0]"
   ]
  },
  {
   "cell_type": "code",
   "execution_count": null,
   "id": "e99cfbcc",
   "metadata": {},
   "outputs": [],
   "source": [
    "df_c.sum()"
   ]
  }
 ],
 "metadata": {
  "kernelspec": {
   "display_name": "Python [conda env:oa] *",
   "language": "python",
   "name": "conda-env-oa-py"
  },
  "language_info": {
   "codemirror_mode": {
    "name": "ipython",
    "version": 3
   },
   "file_extension": ".py",
   "mimetype": "text/x-python",
   "name": "python",
   "nbconvert_exporter": "python",
   "pygments_lexer": "ipython3",
   "version": "3.6.13"
  }
 },
 "nbformat": 4,
 "nbformat_minor": 5
}
