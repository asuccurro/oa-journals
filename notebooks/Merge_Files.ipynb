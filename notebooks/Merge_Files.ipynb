{
 "cells": [
  {
   "cell_type": "markdown",
   "id": "fac307d7",
   "metadata": {},
   "source": [
    "# Merge and clean the InCites files\n",
    "\n",
    "\n",
    "Notebook to process the various InCites files\n",
    "\n",
    "World population data from: https://data.worldbank.org/indicator/SP.POP.TOTL, Taiwan was added using google's result for 2019 population\n"
   ]
  },
  {
   "cell_type": "code",
   "execution_count": null,
   "id": "f108d220",
   "metadata": {},
   "outputs": [],
   "source": [
    "import os\n",
    "import pandas as pd\n",
    "\n",
    "maindir = '../data/inCites'\n",
    "incites_files = {}\n",
    "journals = {}\n",
    "for root, dirs, files in os.walk(maindir):\n",
    "    if root == maindir:\n",
    "        disciplines = dirs\n",
    "        continue\n",
    "    d = root.split('/')[-1]\n",
    "    incites_files[d] = files\n",
    "    journals[d] = []\n",
    "    for f in files:\n",
    "        journals[d].append(f.split('#')[0])\n",
    "    journals[d] = set(journals[d])\n",
    "\n",
    "#csvf = ['Open-Access-OA-', 'Contributions-by-country-region', 'Contributions-by-organizations']\n",
    "csvf = ['Open-Access-OA-', 'Contributions-by-country-region']\n",
    "year = '2019'\n",
    "scie = 'SCIE'\n",
    "nrows_toskip = 5"
   ]
  },
  {
   "cell_type": "code",
   "execution_count": null,
   "id": "8207dba6",
   "metadata": {},
   "outputs": [],
   "source": [
    "dfs = {}\n",
    "for ft in csvf:\n",
    "    dfs[ft] = []\n",
    "    for d,j in journals.items():\n",
    "        dfs[d] = []\n",
    "        for f in j:\n",
    "            filepath = f'{maindir}/{d}/{f}#{year}#{scie}#{ft}.csv'\n",
    "            df = pd.read_csv(filepath, skiprows=nrows_toskip).dropna()\n",
    "            df['Journal'] = f\n",
    "            if ft == 'Open-Access-OA-':\n",
    "                df = df.set_index('Unnamed: 0').drop(['% Citable Open Access'])\n",
    "                df['Items'] = df['Items'].astype('int')\n",
    "                df['Citations*'] = df['Citations*'].astype('int')\n",
    "                newd = {'TotItems': df.loc['Total Citable', 'Items'],\n",
    "                    'TotCitations': df.loc['Total Citable', 'Citations*'],\n",
    "                    'OAItems': df.loc['Gold OA Citable', 'Items'],\n",
    "                    'OACitations': df.loc['Gold OA Citable', 'Citations*'],\n",
    "                    'NotOAItems': df.loc['Subscription and Free to Read Citable', 'Items'],\n",
    "                    'NotOACitations': df.loc['Subscription and Free to Read Citable', 'Citations*']}\n",
    "                df = pd.DataFrame(newd, index=[f])\n",
    "                df['CitPerItem_OA'] = df.OACitations/df.OAItems\n",
    "                df['CitPerItem_NotOA'] = df.NotOACitations/df.NotOAItems\n",
    "            if ft == 'Contributions-by-country-region':\n",
    "                df = df.drop(columns=['Rank']).pivot(index='Journal', values='Count', columns='Country')\n",
    "                df['Discipline'] = d\n",
    "            dfs[ft].append(df)"
   ]
  },
  {
   "cell_type": "code",
   "execution_count": null,
   "id": "c28ffc16",
   "metadata": {},
   "outputs": [],
   "source": [
    "#Check concat operation\n",
    "\n",
    "#ft='Open-Access-OA-'\n",
    "ft='Contributions-by-country-region'\n",
    "\n",
    "t1 = dfs[ft][0]\n",
    "t2 = dfs[ft][1]\n",
    "\n",
    "df = pd.concat([t1,t2], axis=0)\n",
    "\n",
    "i1 = set(t1.columns)\n",
    "i2 = set(t2.columns)\n",
    "\n",
    "diff1 = i1-i2\n",
    "diff2 = i2-i1\n",
    "\n",
    "diff = list(diff1)+list(diff2)\n",
    "\n",
    "df[diff]"
   ]
  },
  {
   "cell_type": "code",
   "execution_count": null,
   "id": "11abadb1",
   "metadata": {},
   "outputs": [],
   "source": [
    "# Join\n",
    "dfc = pd.concat(dfs[csvf[1]], axis=0).fillna(0)\n",
    "# Merge England, Scotland, Northerm Ireland, Wales\n",
    "uk = ['NORTHERN IRELAND', 'Scotland', 'England', 'Wales']\n",
    "dfc['United Kingdom'] = dfc[uk].sum(axis=1)\n",
    "dfc = dfc.drop(uk, axis=1)\n",
    "\n",
    "countries = list(dfc.columns)\n",
    "countries.remove('Discipline')\n",
    "countries.sort()"
   ]
  },
  {
   "cell_type": "code",
   "execution_count": null,
   "id": "9dcde0a8",
   "metadata": {},
   "outputs": [],
   "source": [
    "pdf = pd.read_csv('../data/population/API_SP.POP.TOTL_DS2_en_csv_v2_2163507.csv', skiprows=4)\n",
    "pdf = pdf[['Country Name', 'Country Code', '2019']]\n",
    "# add Taiwan\n",
    "pdf = pdf.append({'Country Name': 'Taiwan', 'Country Code': 'TWN', '2019': 23773876.0}, ignore_index=True)\n",
    "countries_WB = list(pdf['Country Name'])\n",
    "countries_to_change = {}\n",
    "for c in countries:\n",
    "    if c not in countries_WB:\n",
    "        if c.title() in countries_WB:\n",
    "            print(c, c.title())\n",
    "            countries_to_change[c] = c.title()\n",
    "        else:\n",
    "            countries_to_change[c] = 'x'"
   ]
  },
  {
   "cell_type": "code",
   "execution_count": null,
   "id": "4644e3cf",
   "metadata": {
    "scrolled": true
   },
   "outputs": [],
   "source": [
    "countries_to_change"
   ]
  },
  {
   "cell_type": "code",
   "execution_count": null,
   "id": "b5778ade",
   "metadata": {},
   "outputs": [],
   "source": [
    "countries_to_change = {'BANGLADESH': 'Bangladesh',\n",
    " 'BELARUS': 'Belarus',\n",
    " 'CHINA MAINLAND': 'China',\n",
    " 'Cote Ivoire': \"Cote d'Ivoire\",\n",
    " 'GERMANY (FED REP GER)': 'Germany',\n",
    " 'REPUBLIC OF GEORGIA': 'Georgia',\n",
    " 'Macedonia': 'North Macedonia',\n",
    " 'Palestine': 'West Bank and Gaza',\n",
    " 'USA': 'United States',\n",
    " 'UNITED ARAB EMIRATES': 'United Arab Emirates'}\n",
    "       \n",
    "countries_to_change_WB = {'Egypt, Arab Rep.': 'Egypt',\n",
    " 'Iran, Islamic Rep.': 'Iran',\n",
    " 'Russian Federation': 'Russia',\n",
    " 'Slovak Republic': 'Slovakia',\n",
    " 'Korea, Rep.': 'South Korea',\n",
    "# 'United States': 'USA',\n",
    " 'Yemen, Rep.': 'Yemen'}"
   ]
  },
  {
   "cell_type": "code",
   "execution_count": null,
   "id": "02d4fc69",
   "metadata": {},
   "outputs": [],
   "source": [
    "pdf['Country Name'].replace(to_replace=countries_to_change_WB, inplace=True)\n",
    "dfc.rename(columns=countries_to_change, inplace=True)\n",
    "\n",
    "countries = list(dfc.columns)\n",
    "countries.remove('Discipline')\n",
    "countries_WB = list(pdf['Country Name'])\n",
    "for c in countries:\n",
    "    if c not in countries_WB:\n",
    "        print(c)"
   ]
  },
  {
   "cell_type": "code",
   "execution_count": null,
   "id": "76466d1b",
   "metadata": {},
   "outputs": [],
   "source": [
    "dfc =dfc.sort_index(axis=1)\n",
    "dfc['Discipline'] = dfc.pop('Discipline')\n",
    "\n",
    "dfoa = pd.concat(dfs[csvf[0]], axis=0)\n",
    "\n",
    "df1 = pd.merge(dfc, dfoa, left_index=True, right_index=True)\n",
    "df1['TotAuthors'] = dfc.sum(axis=1, numeric_only = True)\n",
    "\n",
    "pdf = pdf.set_index('Country Name')"
   ]
  },
  {
   "cell_type": "code",
   "execution_count": null,
   "id": "49c647fd",
   "metadata": {},
   "outputs": [],
   "source": [
    "# Find groupA and groupB countries\n",
    "countries = list(dfc.columns)\n",
    "countries.remove('Discipline')\n",
    "countries.sort()\n",
    "df = pd.DataFrame({'GroupA': 0, 'GroupB': 0, 'Population': -1}, index=countries)\n",
    "with open('../data/groupA_low_income.txt', 'r') as ga:\n",
    "    groupA = ga.read().splitlines()\n",
    "with open('../data/groupB_lower_middle_income.txt', 'r') as ga:\n",
    "    groupB = ga.read().splitlines()\n",
    "groupA.remove('Côte d’Ivoire')\n",
    "groupA.append(\"Cote d'Ivoire\")\n",
    "groupA.remove('Korea, Democratic People’s Republic of')\n",
    "groupA.append('North Korea')\n",
    "groupA.remove('Moldova (Republic of)')\n",
    "groupA.append('Moldova')\n",
    "groupA.sort()\n",
    "\n",
    "def assign_group(row):\n",
    "    if row.name in groupA:\n",
    "        row.GroupA = 1\n",
    "    elif row.name in groupB:\n",
    "        row.GroupB = 1\n",
    "    return row\n",
    "\n",
    "dfcg = df.apply(assign_group, axis='columns')\n",
    "\n",
    "def assign_pop(row):\n",
    "    row.Population = pdf.loc[row.name, '2019']\n",
    "    return row\n",
    "\n",
    "dfcg = df.apply(assign_pop, axis='columns')\n"
   ]
  },
  {
   "cell_type": "code",
   "execution_count": null,
   "id": "03354a8d",
   "metadata": {},
   "outputs": [],
   "source": [
    "#filepath '../data/inCites/physics/PHYS-LETT-B#2019#SCIE#Contributions-by-country-region.csv'\n",
    "#test = pd.read_csv(filepath, skiprows=nrows_toskip).dropna()\n",
    "#t1 = dfc.loc['PHYS-LETT-B']\n",
    "#t2 = dfoa.loc['PHYS-LETT-B']"
   ]
  },
  {
   "cell_type": "code",
   "execution_count": null,
   "id": "6653e31b",
   "metadata": {},
   "outputs": [],
   "source": [
    "df1.to_csv('../data/inCites/dataframe.csv')\n",
    "dfc.to_csv('../data/inCites/dataframe_only_countries.csv')\n",
    "dfoa.to_csv('../data/inCites/dataframe_only_openaccess.csv')\n",
    "dfcg.to_csv('../data/inCites/countries_groupAB.csv')"
   ]
  }
 ],
 "metadata": {
  "kernelspec": {
   "display_name": "Python [conda env:oa] *",
   "language": "python",
   "name": "conda-env-oa-py"
  },
  "language_info": {
   "codemirror_mode": {
    "name": "ipython",
    "version": 3
   },
   "file_extension": ".py",
   "mimetype": "text/x-python",
   "name": "python",
   "nbconvert_exporter": "python",
   "pygments_lexer": "ipython3",
   "version": "3.6.13"
  }
 },
 "nbformat": 4,
 "nbformat_minor": 5
}
