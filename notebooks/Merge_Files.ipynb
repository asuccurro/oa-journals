{
 "cells": [
  {
   "cell_type": "markdown",
   "id": "fac307d7",
   "metadata": {},
   "source": [
    "# Merge and clean the InCites files\n",
    "\n",
    "\n",
    "Notebook to process the various InCites files\n",
    "\n",
    "World population data from: https://data.worldbank.org/indicator/SP.POP.TOTL, Taiwan was added using google's result for 2019 population\n"
   ]
  },
  {
   "cell_type": "code",
   "execution_count": null,
   "id": "f108d220",
   "metadata": {},
   "outputs": [],
   "source": [
    "import os\n",
    "import pandas as pd\n",
    "import numpy as np\n",
    "\n",
    "maindir = '../data/inCites'\n",
    "incites_files = {}\n",
    "journals = {}\n",
    "for root, dirs, files in os.walk(maindir):\n",
    "    if root == maindir:\n",
    "        disciplines = dirs\n",
    "        continue\n",
    "    d = root.split('/')[-1]\n",
    "    incites_files[d] = files\n",
    "    journals[d] = []\n",
    "    for f in files:\n",
    "        journals[d].append(f.split('#')[0])\n",
    "    journals[d] = set(journals[d])\n",
    "\n",
    "#csvf = ['Open-Access-OA-', 'Contributions-by-country-region', 'Contributions-by-organizations']\n",
    "csvf = ['Open-Access-OA-', 'Contributions-by-country-region']\n",
    "year = '2019'\n",
    "scie = 'SCIE'\n",
    "nrows_toskip = 5"
   ]
  },
  {
   "cell_type": "code",
   "execution_count": null,
   "id": "8207dba6",
   "metadata": {},
   "outputs": [],
   "source": [
    "dfs = {}\n",
    "for ft in csvf:\n",
    "    dfs[ft] = []\n",
    "    for d,j in journals.items():\n",
    "        dfs[d] = []\n",
    "        for f in j:\n",
    "            filepath = f'{maindir}/{d}/{f}#{year}#{scie}#{ft}.csv'\n",
    "            if not os.path.isfile(filepath):\n",
    "                filepath = f'{maindir}/{d}/{f}#{year}#SSCI#{ft}.csv'\n",
    "                if not os.path.isfile(filepath):\n",
    "                    print(filepath, \" does not exist\")\n",
    "            df = pd.read_csv(filepath, skiprows=nrows_toskip).dropna()\n",
    "            df['Journal'] = f\n",
    "            if ft == 'Open-Access-OA-':\n",
    "                df = df.set_index('Unnamed: 0').drop(['% Citable Open Access'])\n",
    "                df['Items'] = df['Items'].astype('int')\n",
    "                df['Citations*'] = df['Citations*'].astype('int')\n",
    "                newd = {'TotItems': df.loc['Total Citable', 'Items'],\n",
    "                    'TotCitations': df.loc['Total Citable', 'Citations*'],\n",
    "                    'OAItems': df.loc['Gold OA Citable', 'Items'],\n",
    "                    'OACitations': df.loc['Gold OA Citable', 'Citations*'],\n",
    "                    'NotOAItems': df.loc['Subscription and Free to Read Citable', 'Items'],\n",
    "                    'NotOACitations': df.loc['Subscription and Free to Read Citable', 'Citations*']}\n",
    "                df = pd.DataFrame(newd, index=[f])\n",
    "                df['CitPerItem_OA'] = df.OACitations/df.OAItems\n",
    "                df['CitPerItem_NotOA'] = df.NotOACitations/df.NotOAItems\n",
    "            if ft == 'Contributions-by-country-region':\n",
    "                df = df.drop(columns=['Rank']).pivot(index='Journal', values='Count', columns='Country')\n",
    "                df['Discipline'] = d\n",
    "            dfs[ft].append(df)"
   ]
  },
  {
   "cell_type": "code",
   "execution_count": null,
   "id": "c28ffc16",
   "metadata": {},
   "outputs": [],
   "source": [
    "#Check concat operation\n",
    "\n",
    "#ft='Open-Access-OA-'\n",
    "ft='Contributions-by-country-region'\n",
    "\n",
    "t1 = dfs[ft][0]\n",
    "t2 = dfs[ft][1]\n",
    "\n",
    "df = pd.concat([t1,t2], axis=0)\n",
    "\n",
    "i1 = set(t1.columns)\n",
    "i2 = set(t2.columns)\n",
    "\n",
    "diff1 = i1-i2\n",
    "diff2 = i2-i1\n",
    "\n",
    "diff = list(diff1)+list(diff2)\n",
    "\n",
    "df[diff]"
   ]
  },
  {
   "cell_type": "code",
   "execution_count": null,
   "id": "11abadb1",
   "metadata": {},
   "outputs": [],
   "source": [
    "# Join\n",
    "dfc = pd.concat(dfs[csvf[1]], axis=0).fillna(0)\n",
    "# Merge England, Scotland, Northerm Ireland, Wales\n",
    "uk = ['NORTHERN IRELAND', 'Scotland', 'England', 'Wales']\n",
    "dfc['United Kingdom'] = dfc[uk].sum(axis=1)\n",
    "dfc = dfc.drop(uk, axis=1)\n",
    "\n",
    "countries = list(dfc.columns)\n",
    "countries.remove('Discipline')\n",
    "countries.sort()"
   ]
  },
  {
   "cell_type": "code",
   "execution_count": null,
   "id": "9dcde0a8",
   "metadata": {},
   "outputs": [],
   "source": [
    "pdf = pd.read_csv('../data/population/API_SP.POP.TOTL_DS2_en_csv_v2_2163507.csv', skiprows=4)\n",
    "pdf = pdf[['Country Name', 'Country Code', '2019']]\n",
    "# add Taiwan\n",
    "pdf = pdf.append({'Country Name': 'Taiwan', 'Country Code': 'TWN', '2019': 23773876.0}, ignore_index=True)\n",
    "# add caribbean NEtherlands\n",
    "pdf = pdf.append({'Country Name': 'Caribbean Netherlands', 'Country Code': 'XXX', '2019': 25157.0}, ignore_index=True)\n",
    "# add French Guiana\n",
    "pdf = pdf.append({'Country Name': 'French Guiana', 'Country Code': 'XXX', '2019': 290832.0}, ignore_index=True)\n",
    "\n",
    "countries_WB = list(pdf['Country Name'])\n",
    "countries_to_change = {}\n",
    "for c in countries:\n",
    "    if c not in countries_WB:\n",
    "        if c.title() in countries_WB:\n",
    "            print(c, c.title())\n",
    "            countries_to_change[c] = c.title()\n",
    "        else:\n",
    "            countries_to_change[c] = 'x'"
   ]
  },
  {
   "cell_type": "code",
   "execution_count": null,
   "id": "4644e3cf",
   "metadata": {
    "scrolled": true
   },
   "outputs": [],
   "source": [
    "countries_to_change"
   ]
  },
  {
   "cell_type": "code",
   "execution_count": null,
   "id": "b5778ade",
   "metadata": {},
   "outputs": [],
   "source": [
    "countries_to_change = {'BANGLADESH': 'Bangladesh',\n",
    " 'BELARUS': 'Belarus',\n",
    " 'CHINA MAINLAND': 'China',\n",
    " 'CONGO PEOPLES REP': 'Congo, Rep.',\n",
    " 'CONGO DEMOCRATIC REPUBLIC': 'Congo, Dem. Rep.',\n",
    " 'Cote Ivoire': \"Cote d'Ivoire\",\n",
    " 'GERMANY (FED REP GER)': 'Germany',\n",
    " 'REPUBLIC OF GEORGIA': 'Georgia',\n",
    " 'Macedonia': 'North Macedonia',\n",
    " 'NETHERLANDS ANTILLES': 'Caribbean Netherlands',\n",
    " 'Palestine': 'West Bank and Gaza',\n",
    " 'USA': 'United States',\n",
    " 'UNITED ARAB EMIRATES': 'United Arab Emirates',\n",
    " 'BOSNIA & HERZEGOVINA': 'Bosnia and Herzegovina'}\n",
    "       \n",
    "countries_to_change_WB = {'Egypt, Arab Rep.': 'Egypt',\n",
    " 'Iran, Islamic Rep.': 'Iran',\n",
    " 'Brunei Darussalam': 'Brunei',\n",
    " 'Gambia, The': 'Gambia',\n",
    " 'Russian Federation': 'Russia',\n",
    " 'Slovak Republic': 'Slovakia',\n",
    " 'Korea, Rep.': 'South Korea',\n",
    "# 'United States': 'USA',\n",
    " 'Yemen, Rep.': 'Yemen',\n",
    " 'Syrian Arab Republic': 'Syria',\n",
    " 'Venezuela, RB': 'Venezuela'}"
   ]
  },
  {
   "cell_type": "code",
   "execution_count": null,
   "id": "02d4fc69",
   "metadata": {},
   "outputs": [],
   "source": [
    "pdf['Country Name'].replace(to_replace=countries_to_change_WB, inplace=True)\n",
    "dfc.rename(columns=countries_to_change, inplace=True)\n",
    "\n",
    "countries = list(dfc.columns)\n",
    "countries.remove('Discipline')\n",
    "countries_WB = list(pdf['Country Name'])\n",
    "for c in countries:\n",
    "    if c not in countries_WB:\n",
    "        print(c)"
   ]
  },
  {
   "cell_type": "code",
   "execution_count": null,
   "id": "668d731c",
   "metadata": {},
   "outputs": [],
   "source": [
    "# check missing values\n",
    "pdf = pdf.set_index('Country Name').loc[countries]\n",
    "findpopfor = list(pdf[pdf.loc[countries]['2019'].isna()].index)\n",
    "findpopfor"
   ]
  },
  {
   "cell_type": "code",
   "execution_count": null,
   "id": "337444f9",
   "metadata": {},
   "outputs": [],
   "source": [
    "pdf.loc['Eritrea', '2019'] = 3497117.0\n",
    "# Eritrea 2019 3,497,117 https://www.worldometers.info/world-population/eritrea-population/"
   ]
  },
  {
   "cell_type": "code",
   "execution_count": null,
   "id": "c127e61b",
   "metadata": {},
   "outputs": [],
   "source": [
    "#gdpdf = pd.read_csv('../data/gdp/API_NY.GDP.MKTP.CD_DS2_en_csv_v2_2163564.csv', skiprows=4)\n",
    "#Other approach: take the latest value recorded\n",
    "gdpdf = pd.read_csv('../data/gdp/API_NY.GDP.MKTP.CD_DS2_en_csv_v2_2163564.csv', skiprows=4).ffill(axis=1)\n",
    "gdpdf = gdpdf[['Country Name', 'Country Code', '2019']]\n",
    "# add Taiwan\n",
    "gdpdf = gdpdf.append({'Country Name': 'Taiwan', 'Country Code': 'TWN', '2019': np.nan}, ignore_index=True)\n",
    "# add caribbean NEtherlands\n",
    "gdpdf = gdpdf.append({'Country Name': 'Caribbean Netherlands', 'Country Code': 'XXX', '2019': np.nan}, ignore_index=True)\n",
    "# add French Guiana\n",
    "gdpdf = gdpdf.append({'Country Name': 'French Guiana', 'Country Code': 'XXX', '2019': np.nan}, ignore_index=True)\n",
    "# N.B. some countries do not have 2019\n",
    "# Same source, should have same names - change the ones we know must be changed\n",
    "gdpdf['Country Name'].replace(to_replace=countries_to_change_WB, inplace=True)\n",
    "\n",
    "countries_WB = list(gdpdf['Country Name'])\n",
    "countries_to_change = {}\n",
    "for c in countries:\n",
    "    if c not in countries_WB:\n",
    "        if c.title() in countries_WB:\n",
    "            print(c, c.title())\n",
    "            countries_to_change[c] = c.title()\n",
    "        else:\n",
    "            countries_to_change[c] = 'x'"
   ]
  },
  {
   "cell_type": "code",
   "execution_count": null,
   "id": "e97de3f4",
   "metadata": {},
   "outputs": [],
   "source": [
    "countries_to_change"
   ]
  },
  {
   "cell_type": "code",
   "execution_count": null,
   "id": "98154b10",
   "metadata": {},
   "outputs": [],
   "source": [
    "#if 2019 GDP is nan, change to 2018's\n",
    "#gdpdf['2019'].fillna(gdpdf['2018'], inplace=True)\n",
    "\n",
    "#Check which ones are still missing\n",
    "gdpdf = gdpdf.set_index('Country Name').loc[countries]\n",
    "findgdpfor = list(gdpdf[gdpdf.loc[countries]['2019'].isna()].index)\n",
    "findgdpfor"
   ]
  },
  {
   "cell_type": "code",
   "execution_count": null,
   "id": "107da977",
   "metadata": {},
   "outputs": [],
   "source": [
    "gdpdf.loc['Taiwan','2019'] = 610.69*1e+9 # google, 2019\n",
    "gdpdf.loc['Caribbean Netherlands','2019'] = 583*1e+6 #https://knoema.com/CBS83776ENG/caribbean-netherlands-gross-domestic-product-gdp , 2017\n",
    "gdpdf.loc['French Guiana','2019'] = 4.87*1e+9 # google, 2019\n",
    "#gdpdf.loc['Venezuela','2019'] = 98.4*1e+9 #google 2018\n",
    "#gdpdf.loc['Syria','2019'] = 27.3*1e+9 # https://www.ceicdata.com/en/indicator/syria/nominal-gdp\n",
    "#gdpdf.loc['New Caledonia','2019'] = 10*1e+9 #https://tradingeconomics.com/new-caledonia/gdp\n",
    "#gdpdf.loc['Eritrea', '2019'] = 2.01*1e+9 # google 2018\n",
    "\n",
    "#gdpdf.loc[c, '2019'] = v"
   ]
  },
  {
   "cell_type": "code",
   "execution_count": null,
   "id": "76466d1b",
   "metadata": {},
   "outputs": [],
   "source": [
    "dfc =dfc.sort_index(axis=1)\n",
    "dfc['Discipline'] = dfc.pop('Discipline')\n",
    "\n",
    "dfoa = pd.concat(dfs[csvf[0]], axis=0)\n",
    "\n",
    "df1 = pd.merge(dfc, dfoa, left_index=True, right_index=True)\n",
    "df1['TotAuthors'] = dfc.sum(axis=1, numeric_only = True)\n",
    "\n",
    "#pdf = pdf.set_index('Country Name')"
   ]
  },
  {
   "cell_type": "code",
   "execution_count": null,
   "id": "49c647fd",
   "metadata": {},
   "outputs": [],
   "source": [
    "# Find groupA and groupB countries\n",
    "countries = list(dfc.columns)\n",
    "countries.remove('Discipline')\n",
    "countries.sort()\n",
    "df = pd.DataFrame({'Group': 'NA', 'Population': -1, 'GDP': -1}, index=countries)\n",
    "with open('../data/groupA_low_income.txt', 'r') as ga:\n",
    "    groupA = ga.read().splitlines()\n",
    "with open('../data/groupB_lower_middle_income.txt', 'r') as ga:\n",
    "    groupB = ga.read().splitlines()\n",
    "\n",
    "def assign_group(row):\n",
    "    if row.name in groupA:\n",
    "        row.Group = 'A'\n",
    "    elif row.name in groupB:\n",
    "        row.Group = 'B'\n",
    "    else:\n",
    "        row.Group = 'Other'\n",
    "    return row\n",
    "\n",
    "dfcg = df.apply(assign_group, axis='columns')\n",
    "\n",
    "def assign_pop(row):\n",
    "    row.Population = pdf.loc[row.name, '2019']\n",
    "    return row\n",
    "\n",
    "def assign_gdp(row):\n",
    "    row.GDP = gdpdf.loc[row.name, '2019']\n",
    "    return row\n",
    "\n",
    "dfcg = dfcg.apply(assign_pop, axis='columns')\n",
    "dfcg = dfcg.apply(assign_gdp, axis='columns')\n",
    "dfcg['GDP_pc'] = dfcg.GDP / dfcg.Population"
   ]
  },
  {
   "cell_type": "code",
   "execution_count": null,
   "id": "cb53916a",
   "metadata": {},
   "outputs": [],
   "source": [
    "dfcg.head()"
   ]
  },
  {
   "cell_type": "code",
   "execution_count": null,
   "id": "03354a8d",
   "metadata": {},
   "outputs": [],
   "source": [
    "#filepath '../data/inCites/physics/PHYS-LETT-B#2019#SCIE#Contributions-by-country-region.csv'\n",
    "#test = pd.read_csv(filepath, skiprows=nrows_toskip).dropna()\n",
    "#t1 = dfc.loc['PHYS-LETT-B']\n",
    "#t2 = dfoa.loc['PHYS-LETT-B']"
   ]
  },
  {
   "cell_type": "code",
   "execution_count": null,
   "id": "6653e31b",
   "metadata": {},
   "outputs": [],
   "source": [
    "df1.to_csv('../data/inCites/dataframe.csv')\n",
    "dfc.to_csv('../data/inCites/dataframe_only_countries.csv')\n",
    "dfoa.to_csv('../data/inCites/dataframe_only_openaccess.csv')\n",
    "dfcg.to_csv('../data/inCites/countries_groupAB.csv')"
   ]
  }
 ],
 "metadata": {
  "kernelspec": {
   "display_name": "Python [conda env:oa] *",
   "language": "python",
   "name": "conda-env-oa-py"
  },
  "language_info": {
   "codemirror_mode": {
    "name": "ipython",
    "version": 3
   },
   "file_extension": ".py",
   "mimetype": "text/x-python",
   "name": "python",
   "nbconvert_exporter": "python",
   "pygments_lexer": "ipython3",
   "version": "3.6.13"
  }
 },
 "nbformat": 4,
 "nbformat_minor": 5
}
